{
 "cells": [
  {
   "cell_type": "code",
   "execution_count": null,
   "id": "374e57ab",
   "metadata": {},
   "outputs": [],
   "source": [
    "import pandas as pd\n",
    "import numpy as np\n",
    "from sklearn.metrics import mean_squared_error\n",
    "import xgboost as xgb\n",
    "import lightgbm as lgb\n",
    "from catboost import CatBoostRegressor, Pool, cv\n",
    "from utils_testing import optuna_logging, train_xgb_model, train_cat_model, train_lgb_model"
   ]
  },
  {
   "cell_type": "code",
   "execution_count": null,
   "id": "4576ef92",
   "metadata": {},
   "outputs": [],
   "source": [
    "train_df = pd.read_pickle(\"../data/train_df_interim.pickle\")\n",
    "test_df = pd.read_pickle(\"../data/test_df_interim.pickle\")\n",
    "\n",
    "train_df.shape, test_df.shape"
   ]
  },
  {
   "cell_type": "code",
   "execution_count": null,
   "id": "1453ea2f",
   "metadata": {},
   "outputs": [],
   "source": [
    "target = 'PCT_DESAT_TO_ORIG'"
   ]
  },
  {
   "cell_type": "markdown",
   "id": "d6747272",
   "metadata": {},
   "source": [
    "# XGB"
   ]
  },
  {
   "cell_type": "markdown",
   "id": "b1930dfa",
   "metadata": {},
   "source": [
    "### local"
   ]
  },
  {
   "cell_type": "code",
   "execution_count": null,
   "id": "a425ead2",
   "metadata": {},
   "outputs": [],
   "source": [
    "xgb_indep = ['AVG_ORIG_OIL_SAT',\n",
    "         'DIP',\n",
    "         'FT_DIST_PAT_1',\n",
    "         'FT_DIST_PAT_2',\n",
    "         'Lin_Dist_Inj_Factor',\n",
    "         'Lin_Dist_Prod_Factor',\n",
    "         'ORIG_OIL_H',\n",
    "         'SAND',\n",
    "         'SGMT_CUM_STM_INJ_1',\n",
    "         'SGMT_CUM_STM_INJ_2',\n",
    "         'SGMT_CUM_STM_INJ_3',\n",
    "         'TOTAL_GNTL_INJ',\n",
    "         'TOTAL_INJ',\n",
    "         'TOTAL_PROD',\n",
    "         'fe_SAND_AGE',\n",
    "         'fe_SAND_DIP_cum_mean',\n",
    "         'fe_SAND_last_active',\n",
    "         'fe_Sand_usage_count',\n",
    "         'fe_WELL_AGE',\n",
    "         'fe_WELL_SAND_AGE',\n",
    "         'fe_Well_DIP_cum_mean',\n",
    "         'fe_Well_Sand_last_active',\n",
    "         'fe_Well_Sand_usage_count',\n",
    "         'fe_Well_last_active',\n",
    "         'fe_avg_well_distance',\n",
    "         'fe_avg_well_injection',\n",
    "         'fe_injection_difference',\n",
    "         'fe_injection_difference_PROD_percentage',\n",
    "         'fe_injection_difference_percentage',\n",
    "         'fe_prod_inj_percentage',\n",
    "         'fe_sand_reservoir_percentage',\n",
    "         'fe_total_injected_percentage_1',\n",
    "         'fe_total_injected_percentage_2',\n",
    "         'fe_total_injected_percentage_3',\n",
    "         'fe_total_wells',\n",
    "         'fe_unique_well_count',\n",
    "         'CMPL_FAC_ID',\n",
    "         'fe_pipe_avg_AVG_ORIG_OIL_SAT_cum_mean'\n",
    "       ]"
   ]
  },
  {
   "cell_type": "code",
   "execution_count": null,
   "id": "5fc8721f",
   "metadata": {
    "scrolled": true
   },
   "outputs": [],
   "source": [
    "xgb_params = {'objective' : 'reg:squarederror'\n",
    "              ,'eval_metric': 'rmse'\n",
    "              ,'max_depth' : 5\n",
    "              ,'eta' : 0.01\n",
    "              ,'subsample': 0.9\n",
    "              ,'colsample_bytree': 0.9\n",
    "              ,'min_child_weight':20\n",
    "              ,'gamma': 1\n",
    "    #           ,'tree_method' : 'gpu_hist'\n",
    "              }\n",
    "\n",
    "# xgb_params['task_type'] = 'CPU'\n",
    "# xgb_params['eval_metric'] = 'RMSE'\n",
    "\n",
    "xgb_fold_iterations, xgb_fold_results, xgb_models_fold, xgb_fold_prediction = train_xgb_model(train_df=train_df,\n",
    "                                                                                      indep=xgb_indep, \n",
    "                                                                                      target=target,\n",
    "                                                                                      xgb_params = xgb_params)\n",
    "\n",
    "xgb_avg_iteration = int(np.mean(xgb_fold_iterations))\n",
    "print(\"Fold iterations:\", xgb_fold_iterations)\n",
    "print(\"Average iteration:\", xgb_avg_iteration)\n",
    "print(\"Fold results:\", xgb_fold_results)\n",
    "print(\"Avg.Fold results:\", np.mean(xgb_fold_results))"
   ]
  },
  {
   "cell_type": "markdown",
   "id": "b951aba9",
   "metadata": {},
   "source": [
    "### Prod"
   ]
  },
  {
   "cell_type": "code",
   "execution_count": null,
   "id": "90112b6e",
   "metadata": {},
   "outputs": [],
   "source": [
    "dtrain_prod = xgb.DMatrix(data= train_df[xgb_indep] , label=train_df[target])\n",
    "dtest_prod = xgb.DMatrix(data= test_df[xgb_indep])\n",
    "\n",
    "train_prod_iter = xgb_avg_iteration# + int(0.2*xgb_avg_iteration)\n",
    "print(f\"Training for {train_prod_iter} iterations\")\n",
    "np.random.seed(100)\n",
    "xgb_model_prod = xgb.train(xgb_params,\n",
    "                           dtrain_prod,\n",
    "#                            evals = eval_set,\n",
    "                           num_boost_round = train_prod_iter,\n",
    "#                             feval = xgb_eval_rmspe,\n",
    "#                             maximize = False,\n",
    "#                            verbose_eval = True,\n",
    "#                            early_stopping_rounds = 50\n",
    "                          )\n",
    "\n",
    "xgb_prod_prediction = xgb_model_prod.predict(dtest_prod)\n",
    "xgb_prod_prediction = np.where(xgb_prod_prediction<0, 0, xgb_prod_prediction)\n",
    "xgb_prod_prediction = np.where(xgb_prod_prediction>1, 1, xgb_prod_prediction)\n",
    "xgb_prod_prediction"
   ]
  },
  {
   "cell_type": "markdown",
   "id": "5a2149e2",
   "metadata": {},
   "source": [
    "# LGB"
   ]
  },
  {
   "cell_type": "markdown",
   "id": "9f78f57c",
   "metadata": {},
   "source": [
    "### local"
   ]
  },
  {
   "cell_type": "code",
   "execution_count": null,
   "id": "63327e18",
   "metadata": {},
   "outputs": [],
   "source": [
    "lgb_indep = ['AVG_ORIG_OIL_SAT',\n",
    "         'FT_DIST_PAT_1',\n",
    "         'FT_DIST_PAT_2',\n",
    "         'Lin_Dist_Inj_Factor',\n",
    "         'Lin_Dist_Prod_Factor',\n",
    "         'ORIG_OIL_H',\n",
    "         'SAND',\n",
    "         'SGMT_CUM_STM_INJ_1',\n",
    "         'SGMT_CUM_STM_INJ_2',\n",
    "         'SGMT_CUM_STM_INJ_3',\n",
    "         'TOTAL_GNTL_INJ',\n",
    "         'TOTAL_PROD',\n",
    "         'fe_SAND_AGE',\n",
    "         'fe_SAND_DIP_cum_mean',\n",
    "         'fe_SAND_last_active',\n",
    "         'fe_Sand_usage_count',\n",
    "         'fe_WELL_AGE',\n",
    "         'fe_WELL_SAND_AGE',\n",
    "         'fe_Well_DIP_cum_mean',\n",
    "         'fe_Well_Sand_last_active',\n",
    "         'fe_Well_Sand_usage_count',\n",
    "         'fe_Well_last_active',\n",
    "         'fe_avg_well_injection',\n",
    "         'fe_injection_difference',\n",
    "         'fe_injection_difference_PROD_percentage',\n",
    "         'fe_injection_difference_percentage',\n",
    "         'fe_prod_inj_percentage',\n",
    "         'fe_sand_reservoir_percentage',\n",
    "         'fe_total_injected_percentage_1',\n",
    "         'fe_total_injected_percentage_2',\n",
    "         'fe_total_injected_percentage_3',\n",
    "         'fe_total_wells',\n",
    "         'fe_unique_well_count',\n",
    "         'CMPL_FAC_ID',\n",
    "         'fe_pipe_avg_AVG_ORIG_OIL_SAT_cum_mean']"
   ]
  },
  {
   "cell_type": "code",
   "execution_count": null,
   "id": "3688ec4a",
   "metadata": {},
   "outputs": [],
   "source": [
    "lgb_params = {'boosting_type': 'gbdt',\n",
    "             'objective': 'regression',\n",
    "             'metric': 'rmse',\n",
    "             'num_leaves': 8,\n",
    "             'learning_rate': 0.04,\n",
    "             'feature_fraction': 1,\n",
    "             'bagging_fraction': 0.9,\n",
    "             'bagging_freq': 1,\n",
    "             'min_child_samples': 20,\n",
    "             'verbose': -1}\n",
    "\n",
    "fold_iterations, fold_results, lgb_models_fold, lgb_fold_prediction = train_lgb_model(train_df=train_df, \n",
    "                                                                                      indep=lgb_indep, \n",
    "                                                                                      target=target,\n",
    "                                                                                      lgb_params = lgb_params)\n",
    "\n",
    "lgb_avg_iteration = int(np.mean(fold_iterations))\n",
    "print(\"Fold iterations:\", fold_iterations)\n",
    "print(\"Average iteration:\", lgb_avg_iteration)\n",
    "print(\"Fold results:\", fold_results)\n",
    "print(\"Avg.Fold results:\", np.mean(fold_results))"
   ]
  },
  {
   "cell_type": "markdown",
   "id": "d2747629",
   "metadata": {},
   "source": [
    "### Prod"
   ]
  },
  {
   "cell_type": "code",
   "execution_count": null,
   "id": "1a35b7df",
   "metadata": {},
   "outputs": [],
   "source": [
    "lgb_train_prod = lgb.Dataset(train_df[lgb_indep], train_df[target], free_raw_data=False)\n",
    "\n",
    "# params = trial.params\n",
    "# params['metric'] = 'rmse'\n",
    "# params['verbose'] = 1\n",
    "\n",
    "lgb_best_iteration = lgb_avg_iteration# + int(0.2*lgb_avg_iteration)\n",
    "print(f\"Training for {lgb_best_iteration}\")\n",
    "np.random.seed(100)\n",
    "lgb_model_prod = lgb.train(lgb_params\n",
    "                           ,lgb_train_prod\n",
    "                           ,num_boost_round=lgb_best_iteration\n",
    "#                            ,valid_sets=lgb_test_local\n",
    "#                            ,feval=lgb_eval_rmspe\n",
    "#                            ,categorical_feature=['stock_id']\n",
    "#                            ,early_stopping_rounds=50\n",
    "                          )\n",
    "\n",
    "lgb_prod_prediction = lgb_model_prod.predict(test_df[lgb_indep])\n",
    "lgb_prod_prediction = np.where(lgb_prod_prediction<0, 0, lgb_prod_prediction)\n",
    "lgb_prod_prediction = np.where(lgb_prod_prediction>1, 1, lgb_prod_prediction)\n",
    "lgb_prod_prediction"
   ]
  },
  {
   "cell_type": "markdown",
   "id": "84072bad",
   "metadata": {},
   "source": [
    "# CatBoost"
   ]
  },
  {
   "cell_type": "markdown",
   "id": "9dcf4ce5",
   "metadata": {},
   "source": [
    "### local"
   ]
  },
  {
   "cell_type": "code",
   "execution_count": null,
   "id": "249c1460",
   "metadata": {},
   "outputs": [],
   "source": [
    "cat_indep = ['AVG_ORIG_OIL_SAT',\n",
    " 'FT_DIST_PAT_1',\n",
    " 'FT_DIST_PAT_2',\n",
    " 'FT_DIST_PAT_3',\n",
    " 'Lin_Dist_Inj_Factor',\n",
    " 'Lin_Dist_Prod_Factor',\n",
    " 'ORIG_OIL_H',\n",
    " 'SAND',\n",
    " 'SGMT_CUM_STM_INJ_3',\n",
    " 'TOTAL_GNTL_INJ',\n",
    " 'TOTAL_INJ',\n",
    " 'TOTAL_PROD',\n",
    " 'fe_SAND_AGE',\n",
    " 'fe_SAND_DIP_cum_mean',\n",
    " 'fe_SAND_last_active',\n",
    " 'fe_Sand_usage_count',\n",
    " 'fe_WELL_AGE',\n",
    " 'fe_WELL_SAND_AGE',\n",
    " 'fe_Well_DIP_cum_mean',\n",
    " 'fe_Well_Sand_last_active',\n",
    " 'fe_Well_Sand_usage_count',\n",
    " 'fe_Well_last_active',\n",
    " 'fe_Well_usage_count',\n",
    " 'fe_avg_well_distance',\n",
    " 'fe_prod_inj_percentage',\n",
    " 'fe_sand_reservoir_percentage',\n",
    " 'fe_total_injected_percentage_1',\n",
    " 'fe_total_injected_percentage_2',\n",
    " 'fe_total_injected_percentage_3',\n",
    " 'fe_total_wells',\n",
    " 'fe_unique_well_count',\n",
    " 'CMPL_FAC_ID',\n",
    " 'fe_pipe_avg_AVG_ORIG_OIL_SAT_cum_mean',\n",
    " 'fe_pipe_TOTAL_PROD_cum_mean'\n",
    "            ]"
   ]
  },
  {
   "cell_type": "code",
   "execution_count": null,
   "id": "b5691859",
   "metadata": {
    "scrolled": true
   },
   "outputs": [],
   "source": [
    "cat_params = {'learning_rate' :0.04\n",
    "              , 'depth' : 5\n",
    "              , 'subsample' : 0.9\n",
    "              , 'colsample_bylevel' : 0.9\n",
    "#               , 'min_child_samples':100\n",
    "              , 'task_type' : \"CPU\"\n",
    "#               , loss_function='RMSE'\n",
    "              , 'eval_metric' : 'RMSE'\n",
    "             }\n",
    "\n",
    "\n",
    "# cat_params['task_type'] = 'CPU'\n",
    "# cat_params['eval_metric'] = 'RMSE'\n",
    "\n",
    "cat_fold_iterations, cat_fold_results, cat_models_fold, cat_fold_prediction = train_cat_model(train_df=train_df,\n",
    "                                                                                      indep=cat_indep, \n",
    "                                                                                      target=target,\n",
    "                                                                                      cat_params = cat_params)\n",
    "\n",
    "cat_avg_iteration = int(np.mean(cat_fold_iterations))\n",
    "print(\"Fold iterations:\", cat_fold_iterations)\n",
    "print(\"Average iteration:\", cat_avg_iteration)\n",
    "print(\"Fold results:\", cat_fold_results)\n",
    "print(\"Avg.Fold results:\", np.mean(cat_fold_results))"
   ]
  },
  {
   "cell_type": "markdown",
   "id": "8f3d09ef",
   "metadata": {},
   "source": [
    "### Prod"
   ]
  },
  {
   "cell_type": "code",
   "execution_count": null,
   "id": "54addf28",
   "metadata": {},
   "outputs": [],
   "source": [
    "cat_best_iteration = cat_avg_iteration# + int(0.2*cat_avg_iteration)\n",
    "print(f\"Training for {cat_best_iteration}\")\n",
    "\n",
    "np.random.seed(100)\n",
    "cat_prod_model = CatBoostRegressor(**cat_params\n",
    "                                    ,iterations=cat_best_iteration\n",
    "                                    ,early_stopping_rounds=50\n",
    "                                    )\n",
    "# Training on overall dataset\n",
    "cat_prod_model.fit(train_df[cat_indep],\n",
    "                   train_df[target])\n",
    "\n",
    "cat_prod_prediction = cat_prod_model.predict(test_df[cat_indep])\n",
    "\n",
    "cat_prod_prediction = np.where(cat_prod_prediction<0, 0, cat_prod_prediction)\n",
    "cat_prod_prediction = np.where(cat_prod_prediction>1, 1, cat_prod_prediction)\n",
    "cat_prod_prediction"
   ]
  },
  {
   "cell_type": "code",
   "execution_count": null,
   "id": "44d0a957",
   "metadata": {
    "scrolled": true
   },
   "outputs": [],
   "source": [
    "cat_prod_prediction"
   ]
  },
  {
   "cell_type": "markdown",
   "id": "176907ba",
   "metadata": {},
   "source": [
    "# Ensemble"
   ]
  },
  {
   "cell_type": "markdown",
   "id": "4d6704c0",
   "metadata": {},
   "source": [
    "### local"
   ]
  },
  {
   "cell_type": "code",
   "execution_count": null,
   "id": "596f1cd9",
   "metadata": {},
   "outputs": [],
   "source": [
    "ens_fold_results = []\n",
    "\n",
    "    \n",
    "for fold_i in range(0, 5):\n",
    "    ens = np.mean([xgb_fold_prediction[fold_i],\n",
    "                     lgb_fold_prediction[fold_i],\n",
    "                     cat_fold_prediction[fold_i]],                      \n",
    "                  axis=0)\n",
    "        \n",
    "    fold_rmse = np.sqrt(mean_squared_error(train_df[target][train_df.fold==fold_i], ens))\n",
    "    ens_fold_results.append(np.round(fold_rmse, 5))\n",
    "    \n",
    "    print(f\"Current fold: {fold_i}, RMSE {fold_rmse}\")\n",
    "\n",
    "print(\"Fold results:\", ens_fold_results)\n",
    "print(\"Avg.Fold results:\", np.mean(ens_fold_results))\n"
   ]
  },
  {
   "cell_type": "markdown",
   "id": "ac33d155",
   "metadata": {},
   "source": [
    "# Fold models"
   ]
  },
  {
   "cell_type": "code",
   "execution_count": null,
   "id": "842b4064",
   "metadata": {},
   "outputs": [],
   "source": [
    "def fold_models_ensemble(all_models):\n",
    "    \n",
    "    all_predictions = []\n",
    "    for model in all_model.keys():\n",
    "\n",
    "        if model == 'xgb':\n",
    "            dtest_prod = xgb.DMatrix(data= test_df[xgb_indep])\n",
    "            print(model)\n",
    "            for fold_i in all_model[model]:\n",
    "                xgb_model = all_model[model][fold_i]\n",
    "                print(xgb_model)\n",
    "\n",
    "                xgb_prod_prediction = xgb_model.predict(dtest_prod)\n",
    "                xgb_prod_prediction = np.where(xgb_prod_prediction<0, 0, xgb_prod_prediction)\n",
    "                xgb_prod_prediction = np.where(xgb_prod_prediction>1, 1, xgb_prod_prediction)\n",
    "                all_predictions.append(xgb_prod_prediction)\n",
    "\n",
    "        elif model == 'lgb':\n",
    "            print(model)\n",
    "            for fold_i in all_model[model]:\n",
    "                lgb_model = all_model[model][fold_i]\n",
    "                print(lgb_model)\n",
    "\n",
    "                lgb_prod_prediction = lgb_model.predict(test_df[lgb_indep])\n",
    "                lgb_prod_prediction = np.where(lgb_prod_prediction<0, 0, lgb_prod_prediction)\n",
    "                lgb_prod_prediction = np.where(lgb_prod_prediction>1, 1, lgb_prod_prediction)\n",
    "                all_predictions.append(lgb_prod_prediction)\n",
    "\n",
    "        else:\n",
    "            print(model)\n",
    "            for fold_i in all_model[model]:\n",
    "                cat_model = all_model[model][fold_i]\n",
    "                print(cat_model)\n",
    "                cat_prod_prediction = cat_prod_model.predict(test_df[cat_indep])\n",
    "                cat_prod_prediction = np.where(cat_prod_prediction<0, 0, cat_prod_prediction)\n",
    "                cat_prod_prediction = np.where(cat_prod_prediction>1, 1, cat_prod_prediction)\n",
    "                all_predictions.append(cat_prod_prediction)\n",
    "                \n",
    "        prod_prediction = np.mean(all_predictions, axis=0)\n",
    "        return prod_prediction\n",
    "\n",
    "all_model_dict = {'xgb': xgb_models_fold,\n",
    "                  'lgb': lgb_models_fold,\n",
    "                  'cat': cat_models_fold\n",
    "                 }            \n",
    "\n",
    "# ensemble_prod_prediction = fold_models_ensemble(all_models=all_model_dict)"
   ]
  },
  {
   "cell_type": "markdown",
   "id": "4aa89148",
   "metadata": {},
   "source": [
    "### Prod"
   ]
  },
  {
   "cell_type": "code",
   "execution_count": null,
   "id": "56ddff45",
   "metadata": {},
   "outputs": [],
   "source": [
    "ensemble_prod_prediction = np.mean([xgb_prod_prediction, \n",
    "                                    lgb_prod_prediction, \n",
    "                                    cat_prod_prediction], axis=0)\n",
    "ensemble_prod_prediction"
   ]
  },
  {
   "cell_type": "code",
   "execution_count": null,
   "id": "f3ef9810",
   "metadata": {},
   "outputs": [],
   "source": [
    "ens_submission = pd.DataFrame({'PCT_DESAT_TO_ORIG':ensemble_prod_prediction})\n",
    "ens_submission.to_csv(\"../sub/ens_sub_26.csv\", index=False)\n",
    "ens_submission"
   ]
  },
  {
   "cell_type": "code",
   "execution_count": null,
   "id": "ca8669da",
   "metadata": {},
   "outputs": [],
   "source": []
  }
 ],
 "metadata": {
  "kernelspec": {
   "display_name": "Python 3",
   "language": "python",
   "name": "python3"
  },
  "language_info": {
   "codemirror_mode": {
    "name": "ipython",
    "version": 3
   },
   "file_extension": ".py",
   "mimetype": "text/x-python",
   "name": "python",
   "nbconvert_exporter": "python",
   "pygments_lexer": "ipython3",
   "version": "3.8.8"
  }
 },
 "nbformat": 4,
 "nbformat_minor": 5
}
