{
 "cells": [
  {
   "cell_type": "code",
   "execution_count": null,
   "id": "374e57ab",
   "metadata": {},
   "outputs": [],
   "source": [
    "import pandas as pd\n",
    "import numpy as np\n",
    "from sklearn.preprocessing import LabelEncoder\n",
    "from sklearn.metrics import mean_squared_error\n",
    "from sklearn.model_selection import KFold, GroupKFold\n",
    "from catboost import CatBoostRegressor, Pool, cv\n",
    "from datetime import datetime, timedelta\n",
    "import gc\n",
    "import optuna\n",
    "from utils_testing import optuna_logging\n",
    "from itertools import combinations\n",
    "from termcolor import colored\n",
    "import pytz\n",
    "UTC = pytz.utc  \n",
    "\n",
    "timeZ_Kl = pytz.timezone('Asia/Kolkata')"
   ]
  },
  {
   "cell_type": "code",
   "execution_count": null,
   "id": "4576ef92",
   "metadata": {},
   "outputs": [],
   "source": [
    "train_df = pd.read_pickle(\"../data/train_df_interim.pickle\")\n",
    "test_df = pd.read_pickle(\"../data/test_df_interim.pickle\")\n",
    "\n",
    "train_df.shape, test_df.shape"
   ]
  },
  {
   "cell_type": "code",
   "execution_count": null,
   "id": "1453ea2f",
   "metadata": {},
   "outputs": [],
   "source": [
    "drop = ['SURV_DTE'\n",
    "        , 'sand_target_avg'\n",
    "        , 'CMPL_FAC_ID'\n",
    "        , 'fold'\n",
    "       ]\n",
    "\n",
    "target = 'PCT_DESAT_TO_ORIG'\n",
    "indep = train_df.columns.difference(drop+[target])\n",
    "indep_master = indep.copy() # Taking a copy so it can be used to get the original features\n",
    "indep"
   ]
  },
  {
   "cell_type": "markdown",
   "id": "84072bad",
   "metadata": {},
   "source": [
    "# CatBoost"
   ]
  },
  {
   "cell_type": "markdown",
   "id": "301d9388",
   "metadata": {},
   "source": [
    "### 5 fold Groupd CV"
   ]
  },
  {
   "cell_type": "code",
   "execution_count": null,
   "id": "c198574a",
   "metadata": {},
   "outputs": [],
   "source": [
    "def train_cat_model(train_df, cat_params):\n",
    "    \n",
    "    num_rounds = 100000\n",
    "    \n",
    "    fold_iterations = []\n",
    "    fold_results = []\n",
    "    cat_models_fold = {}\n",
    "\n",
    "    print(\"\")\n",
    "    for fold_i in range(0, train_df.fold.max()+1):\n",
    "\n",
    "        train_fold = train_df[train_df.fold!=fold_i].copy()\n",
    "        valid_fold = train_df[train_df.fold==fold_i].copy()\n",
    "    \n",
    "        eval_dataset = Pool(valid_fold[indep], valid_fold[target])\n",
    "\n",
    "        nrounds = 1000000\n",
    "        np.random.seed(100)\n",
    "        cat_local_model = CatBoostRegressor(**cat_params\n",
    "                                            ,iterations=nrounds\n",
    "                                            ,early_stopping_rounds=50\n",
    "                                            ,verbose=0\n",
    "                                            )\n",
    "\n",
    "        cat_local_model.fit(train_fold[indep],\n",
    "                            train_fold[target],\n",
    "                            eval_set=eval_dataset)\n",
    "        cat_local_prediction = cat_local_model.predict(valid_fold[indep])\n",
    "        \n",
    "        cat_local_prediction = np.where(cat_local_prediction<0, 0, cat_local_prediction)\n",
    "        cat_local_prediction = np.where(cat_local_prediction>1, 1, cat_local_prediction)\n",
    "\n",
    "        fold_rmse = np.sqrt(mean_squared_error(valid_fold[target], cat_local_prediction))\n",
    "        fold_iteration = cat_local_model.best_iteration_\n",
    "        \n",
    "        fold_iterations.append(fold_iteration)\n",
    "        fold_results.append(np.round(fold_rmse, 5))\n",
    "        cat_models_fold[fold_i] = cat_local_model\n",
    "        \n",
    "        print(f\"Current fold: {fold_i}, iteration {fold_iteration}, RMSE {fold_rmse}\")\n",
    "    \n",
    "    return fold_iterations, fold_results, cat_models_fold\n"
   ]
  },
  {
   "cell_type": "markdown",
   "id": "cb1b5baf",
   "metadata": {},
   "source": [
    "### CAT optuna"
   ]
  },
  {
   "cell_type": "code",
   "execution_count": null,
   "id": "d4dec0ce",
   "metadata": {},
   "outputs": [],
   "source": [
    "def train_cat_model_optuna(trial):\n",
    "    \"\"\"\n",
    "    This function is used to train the model using the parameters obtained from optuna.\n",
    "    \"\"\"\n",
    "    cat_param = {#'silent':True,\n",
    "                'task_type' : \"CPU\",\n",
    "                'eval_metric': 'RMSE',\n",
    "                'learning_rate': trial.suggest_float(\"learning_rate\", 0.006, 0.05, log=True),\n",
    "                'depth': trial.suggest_int(\"depth\", 4, 8),\n",
    "                'subsample': trial.suggest_float(\"subsample\", 0.7, 1.0),\n",
    "                'colsample_bylevel': trial.suggest_float(\"colsample_bylevel\", 0.7, 1.0)\n",
    "                \n",
    "            }\n",
    "    \n",
    "    cat_fold_iterations, cat_fold_results, cat_models_fold = train_cat_model(train_df=train_df, \n",
    "                                                                             cat_params = cat_param)\n",
    "    \n",
    "    avg_error = np.mean(cat_fold_results)\n",
    "    print(\"Avg.Fold results:\", avg_error)\n",
    "\n",
    "    return avg_error"
   ]
  },
  {
   "cell_type": "code",
   "execution_count": null,
   "id": "7cead152",
   "metadata": {
    "scrolled": true
   },
   "outputs": [],
   "source": [
    "# Optuna Hyper-parameter tuning\n",
    "cat_study = optuna.create_study(direction=\"minimize\")\n",
    "cat_study.optimize(train_cat_model_optuna\n",
    "                   , n_trials=100\n",
    "                   , n_jobs=1\n",
    "                   #                , timeout=600\n",
    "                   , show_progress_bar=True\n",
    "                   , gc_after_trial=True\n",
    "              )\n",
    "\n",
    "optuna_logging(model='cat', study=cat_study, indep=indep)\n",
    "\n",
    "print(\"Number of finished trials: \", len(cat_study.trials))\n",
    "print(\"Best trial:\", cat_study.best_trial.number)\n",
    "print(\"Best Value: {}\".format(cat_study.best_trial.value))\n",
    "print(\"Params: \")\n",
    "cat_study.best_params"
   ]
  },
  {
   "cell_type": "code",
   "execution_count": null,
   "id": "22469c58",
   "metadata": {},
   "outputs": [],
   "source": [
    "# Read all the hyperparameters and their best RMSE from the logged file\n",
    "filename = f\"../Optuna_logging/cat_optuna_logging.csv\"\n",
    "temp = pd.read_csv(filename)\n",
    "temp"
   ]
  },
  {
   "cell_type": "code",
   "execution_count": null,
   "id": "42493a50",
   "metadata": {},
   "outputs": [],
   "source": [
    "best_RMSE = temp.best_RMSE.min()\n",
    "cat_params = eval(temp.best_param[temp.best_RMSE==best_RMSE].values[0])\n",
    "print(f\"The parameter corresponding to the best RMSE {best_RMSE}\")\n",
    "cat_params"
   ]
  },
  {
   "cell_type": "markdown",
   "id": "1641b231",
   "metadata": {},
   "source": [
    "# Indep combination"
   ]
  },
  {
   "cell_type": "code",
   "execution_count": null,
   "id": "fa4db2e9",
   "metadata": {
    "scrolled": true
   },
   "outputs": [],
   "source": [
    "def get_indep_combination(indep_all_combo, total_combinations_to_try):\n",
    "    \"\"\"\n",
    "    This function trains the LGB model based on the different combinations of independent \n",
    "    features from the overall features that is available and write it to the file \n",
    "    lgb_best_indep_combo.csv\n",
    "    \"\"\"\n",
    "    cat_params = {'learning_rate' :0.04\n",
    "                  , 'depth' : 5\n",
    "                  , 'subsample' : 0.9\n",
    "                  , 'colsample_bylevel' : 0.9\n",
    "    #               , 'min_child_samples':100\n",
    "                  , 'task_type' : \"CPU\"\n",
    "    #               , loss_function='RMSE'\n",
    "                  , 'eval_metric' : 'RMSE'\n",
    "                 }\n",
    "\n",
    "    # reading the iterations ran so far\n",
    "    global overall_best\n",
    "    overall_best = pd.read_csv(\"../indep_combo/cat_best_indep_combo.csv\")\n",
    "#     overall_best['indep'] = overall_best.indep.apply(lambda x : eval(x))\n",
    "\n",
    "    random_index = np.random.choice(len(indep_all_combo), \n",
    "                                    total_combinations_to_try, \n",
    "                                    replace=False)\n",
    "    mean_fold_result = []\n",
    "    best_result={}\n",
    "    indep_df = []\n",
    "\n",
    "    # declare the indep as global so the changes can be reflected in the training function\n",
    "    global indep \n",
    "    \n",
    "    best = 10000\n",
    "    for i, indep_ind in enumerate(random_index):\n",
    "        indep= indep_all_combo[indep_ind]\n",
    "        print(f\"{i}/{total_combinations_to_try}\")\n",
    "\n",
    "        fold_iterations, fold_results, cat_models_fold = train_cat_model(train_df=train_df,\n",
    "                                                                         cat_params = cat_params)\n",
    "        mean_fold_result.append(np.mean(fold_results))\n",
    "        indep_df.append(indep)\n",
    "        avg_iteration = int(np.mean(fold_iterations))\n",
    "\n",
    "        print(\"Fold iterations:\", fold_iterations)\n",
    "        print(\"Average iteration:\", avg_iteration)\n",
    "        print(\"Fold results:\", fold_results)\n",
    "        print(\"Avg.Fold results:\", mean_fold_result[-1])\n",
    "\n",
    "        # Printing the current best\n",
    "        if mean_fold_result[-1]<best:\n",
    "            best = mean_fold_result[-1]\n",
    "            print(colored(f\"New best {best}\", 'green'))\n",
    "            \n",
    "            # Reading and writing the indep combo\n",
    "            overall_best = pd.read_csv(\"../indep_combo/cat_best_indep_combo.csv\")\n",
    "            best_indep = pd.DataFrame({'Date':datetime.now(timeZ_Kl).strftime('%d-%m-%Y %H:%M:%S'),\n",
    "                                       'indep': str(indep), \n",
    "                                       'rmse': [best]})\n",
    "            \n",
    "            print(colored(\"writing the indep combos to disk\", 'blue'))\n",
    "            overall_best = overall_best.append(best_indep).drop_duplicates().reset_index(drop=True)\n",
    "            overall_best.to_csv(\"../indep_combo/cat_best_indep_combo.csv\", index=False)\n",
    "            \n",
    "        else:\n",
    "            print(colored(f\"Best so far {best}\", 'yellow'))"
   ]
  },
  {
   "cell_type": "code",
   "execution_count": null,
   "id": "573453c1",
   "metadata": {},
   "outputs": [],
   "source": [
    "print(f\"Total actual features: {len(indep_master)}\")\n",
    "\n",
    "features_2_use=30\n",
    "comb_features = combinations(indep_master, features_2_use)\n",
    "\n",
    "indep_all_combo=[]\n",
    "for indep_combo in list(comb_features):\n",
    "    indep_all_combo.append(list(indep_combo))\n",
    "    \n",
    "print(f\"Total features to use: {features_2_use}\")\n",
    "print(f\"Total combo possible : {len(indep_all_combo)}\")"
   ]
  },
  {
   "cell_type": "code",
   "execution_count": null,
   "id": "24d270cd",
   "metadata": {
    "scrolled": true
   },
   "outputs": [],
   "source": [
    "get_indep_combination(indep_all_combo=indep_all_combo, \n",
    "                      total_combinations_to_try=20)"
   ]
  },
  {
   "cell_type": "code",
   "execution_count": null,
   "id": "0c02807f",
   "metadata": {
    "scrolled": true
   },
   "outputs": [],
   "source": [
    "# Extract the parameters and the independent features with the best metric\n",
    "\n",
    "days_before = 1\n",
    "\n",
    "best_indep = pd.read_csv(\"../indep_combo/cat_best_indep_combo.csv\")\n",
    "best_indep['Date'] = pd.to_datetime(best_indep.Date).dt.date.astype('str')\n",
    "\n",
    "today_date = (datetime.now()-timedelta(days=days_before)).strftime('%Y-%m-%d')\n",
    "print(today_date)\n",
    "\n",
    "condition1 = (best_indep.Date==today_date)\n",
    "best_indep = best_indep[condition1].reset_index(drop=True)\n",
    "\n",
    "condition2 = (best_indep.rmse == best_indep.rmse.min())\n",
    "indep = eval(best_indep[condition2].indep.values[0])\n",
    "\n",
    "cat_params = eval(best_indep[condition2].params.values[0])\n",
    "\n",
    "print(f\"Best RMSE : {best_indep.rmse.min()}\")\n",
    "print(\"Best indep size\", len(indep))\n",
    "print(\"Best cat params\", cat_params)\n",
    "# indep[-1]\n",
    "indep"
   ]
  },
  {
   "cell_type": "markdown",
   "id": "9dcf4ce5",
   "metadata": {},
   "source": [
    "### local"
   ]
  },
  {
   "cell_type": "code",
   "execution_count": null,
   "id": "b5691859",
   "metadata": {
    "scrolled": true
   },
   "outputs": [],
   "source": [
    "cat_params = {'learning_rate' :0.04\n",
    "              , 'depth' : 5\n",
    "              , 'subsample' : 0.9\n",
    "              , 'colsample_bylevel' : 0.9\n",
    "#               , 'min_child_samples':100\n",
    "              , 'task_type' : \"CPU\"\n",
    "#               , loss_function='RMSE'\n",
    "              , 'eval_metric' : 'RMSE'\n",
    "             }\n",
    "\n",
    "# cat_params['task_type'] = 'CPU'\n",
    "# cat_params['eval_metric'] = 'RMSE'\n",
    "\n",
    "fold_iterations, fold_results, cat_models_fold = train_cat_model(train_df=train_df,\n",
    "                                                                 cat_params = cat_params)\n",
    "\n",
    "avg_iteration = int(np.mean(fold_iterations))\n",
    "print(\"Fold iterations:\", fold_iterations)\n",
    "print(\"Average iteration:\", avg_iteration)\n",
    "print(\"Fold results:\", fold_results)\n",
    "print(\"Avg.Fold results:\", np.mean(fold_results))"
   ]
  },
  {
   "cell_type": "code",
   "execution_count": null,
   "id": "517cf6f2",
   "metadata": {
    "scrolled": true
   },
   "outputs": [],
   "source": [
    "ind= 2\n",
    "\n",
    "cat_imp = pd.DataFrame({'features':cat_models_fold[ind].feature_names_, \n",
    "                        'imp':cat_models_fold[ind].feature_importances_}).sort_values(['imp'], ascending=False).reset_index(drop=True)\n",
    "cat_imp"
   ]
  },
  {
   "cell_type": "markdown",
   "id": "468a245a",
   "metadata": {},
   "source": [
    "# Fold Ensemble predictions"
   ]
  },
  {
   "cell_type": "code",
   "execution_count": null,
   "id": "e29ae71d",
   "metadata": {},
   "outputs": [],
   "source": [
    "def fold_ensemble(model_list, test):\n",
    "    \"\"\"\n",
    "    This is the Ensemble prediction of the final test data from the fold models\n",
    "    \"\"\"\n",
    "    \n",
    "    ens_pred = []\n",
    "    for i in model_list.keys():\n",
    "        print(f\"Prediction for model {i}\")\n",
    "        fold_pred = model_list[i].predict(test[indep])\n",
    "        fold_pred = np.where(fold_pred<0, 0, fold_pred)\n",
    "        fold_pred = np.where(fold_pred>1, 1, fold_pred)\n",
    "        ens_pred.append(fold_pred)\n",
    "        \n",
    "    ensemble_prediction = np.array(ens_pred).mean(axis=0)\n",
    "           \n",
    "    return ensemble_prediction\n",
    "        \n",
    "# cat_prod_prediction = fold_ensemble(model_list=cat_models_fold, test=test_df)\n",
    "# cat_prod_prediction"
   ]
  },
  {
   "cell_type": "markdown",
   "id": "4aa89148",
   "metadata": {},
   "source": [
    "### Prod"
   ]
  },
  {
   "cell_type": "code",
   "execution_count": null,
   "id": "8c0f2058",
   "metadata": {},
   "outputs": [],
   "source": [
    "np.random.seed(100)\n",
    "cat_prod_model = CatBoostRegressor(**cat_params\n",
    "                                    ,iterations=avg_iteration#+int(avg_iteration *0.2)\n",
    "                                    ,early_stopping_rounds=50\n",
    "                                    )\n",
    "# Training on overall dataset\n",
    "cat_prod_model.fit(train_df[indep],\n",
    "                   train_df[target])\n"
   ]
  },
  {
   "cell_type": "code",
   "execution_count": null,
   "id": "359e3274",
   "metadata": {},
   "outputs": [],
   "source": [
    "cat_prod_prediction = cat_prod_model.predict(test_df[indep])\n",
    "\n",
    "cat_prod_prediction = np.where(cat_prod_prediction<0, 0, cat_prod_prediction)\n",
    "cat_prod_prediction = np.where(cat_prod_prediction>1, 1, cat_prod_prediction)\n",
    "cat_prod_prediction"
   ]
  },
  {
   "cell_type": "code",
   "execution_count": null,
   "id": "f3ef9810",
   "metadata": {},
   "outputs": [],
   "source": [
    "CAT_submission = pd.DataFrame({'PCT_DESAT_TO_ORIG':cat_prod_prediction})\n",
    "CAT_submission.to_csv(\"../sub/CAT_sub_47.csv\", index=False)\n",
    "CAT_submission"
   ]
  },
  {
   "cell_type": "markdown",
   "id": "ff0fee57",
   "metadata": {},
   "source": [
    "# Model Explainability using SHAP values"
   ]
  },
  {
   "cell_type": "code",
   "execution_count": null,
   "id": "ca8669da",
   "metadata": {
    "scrolled": true
   },
   "outputs": [],
   "source": [
    "import shap\n",
    "shap.initjs()\n",
    "\n",
    "# explainer = shap.TreeExplainer(cat_models_fold[0])\n",
    "# shap_values = explainer.shap_values(train_df.loc[train_df.fold!=1, indep].reset_index(drop=True))\n",
    "\n",
    "explainer = shap.TreeExplainer(cat_prod_model)\n",
    "shap_values = explainer.shap_values(train_df[indep].reset_index(drop=True))"
   ]
  },
  {
   "cell_type": "code",
   "execution_count": null,
   "id": "1b75d9c8",
   "metadata": {},
   "outputs": [],
   "source": [
    "i =10\n",
    "shap.force_plot(explainer.expected_value, \n",
    "                shap_values[i], \n",
    "                features=train_df.loc[i, indep], \n",
    "                feature_names=train_df[indep].columns)\n"
   ]
  },
  {
   "cell_type": "code",
   "execution_count": null,
   "id": "c3f2e294",
   "metadata": {},
   "outputs": [],
   "source": [
    "shap.summary_plot(shap_values, \n",
    "                  features=train_df[indep].reset_index(drop=True),\n",
    "                  feature_names=train_df[indep].columns)"
   ]
  },
  {
   "cell_type": "code",
   "execution_count": null,
   "id": "19477fae",
   "metadata": {},
   "outputs": [],
   "source": []
  }
 ],
 "metadata": {
  "kernelspec": {
   "display_name": "Python 3",
   "language": "python",
   "name": "python3"
  },
  "language_info": {
   "codemirror_mode": {
    "name": "ipython",
    "version": 3
   },
   "file_extension": ".py",
   "mimetype": "text/x-python",
   "name": "python",
   "nbconvert_exporter": "python",
   "pygments_lexer": "ipython3",
   "version": "3.8.8"
  }
 },
 "nbformat": 4,
 "nbformat_minor": 5
}
