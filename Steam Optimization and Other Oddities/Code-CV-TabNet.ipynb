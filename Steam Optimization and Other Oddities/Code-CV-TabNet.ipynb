{
 "cells": [
  {
   "cell_type": "code",
   "execution_count": null,
   "id": "374e57ab",
   "metadata": {},
   "outputs": [],
   "source": [
    "import pandas as pd\n",
    "import numpy as np\n",
    "from sklearn.preprocessing import LabelEncoder\n",
    "from sklearn.metrics import mean_squared_error\n",
    "from sklearn.model_selection import KFold, GroupKFold\n",
    "from pytorch_tabnet.tab_model import TabNetRegressor\n",
    "from sklearn.preprocessing import MinMaxScaler\n",
    "from datetime import datetime\n",
    "import gc\n",
    "import optuna\n",
    "from utils_testing import optuna_logging\n",
    "from itertools import combinations\n",
    "from termcolor import colored\n",
    "import pytz\n",
    "UTC = pytz.utc  \n",
    "\n",
    "timeZ_Kl = pytz.timezone('Asia/Kolkata')"
   ]
  },
  {
   "cell_type": "code",
   "execution_count": null,
   "id": "4576ef92",
   "metadata": {},
   "outputs": [],
   "source": [
    "train_df = pd.read_pickle(\"../data/train_df_interim.pickle\")\n",
    "test_df = pd.read_pickle(\"../data/test_df_interim.pickle\")\n",
    "\n",
    "train_df.shape, test_df.shape"
   ]
  },
  {
   "cell_type": "code",
   "execution_count": null,
   "id": "b6df87db",
   "metadata": {},
   "outputs": [],
   "source": [
    "train_df = train_df.replace({-999:0})\n",
    "test_df = test_df.replace({-999:0})"
   ]
  },
  {
   "cell_type": "code",
   "execution_count": null,
   "id": "1453ea2f",
   "metadata": {},
   "outputs": [],
   "source": [
    "drop = ['SURV_DTE'\n",
    "        , 'sand_target_avg'\n",
    "        , 'CMPL_FAC_ID'\n",
    "        , 'fold'\n",
    "       ]\n",
    "\n",
    "target = 'PCT_DESAT_TO_ORIG'\n",
    "indep = train_df.columns.difference(drop+[target])\n",
    "indep_master = indep.copy() # Taking a copy so it can be used to get the original features\n",
    "indep"
   ]
  },
  {
   "cell_type": "code",
   "execution_count": null,
   "id": "2d418e77",
   "metadata": {
    "scrolled": true
   },
   "outputs": [],
   "source": [
    "# scaler = MinMaxScaler()\n",
    "# scaler.fit(train_df[indep])\n",
    "\n",
    "# train_df[indep] = scaler.transform(train_df[indep])\n",
    "# test_df[indep] = scaler.transform(test_df[indep])"
   ]
  },
  {
   "cell_type": "markdown",
   "id": "84072bad",
   "metadata": {},
   "source": [
    "# Tabnet"
   ]
  },
  {
   "cell_type": "markdown",
   "id": "301d9388",
   "metadata": {},
   "source": [
    "### 5 fold Groupd CV"
   ]
  },
  {
   "cell_type": "code",
   "execution_count": null,
   "id": "c198574a",
   "metadata": {},
   "outputs": [],
   "source": [
    "def train_tab_model(train_df, tab_params, tab_fit_params):\n",
    "    \n",
    "    num_rounds = 100000\n",
    "    \n",
    "    fold_iterations = []\n",
    "    fold_results = []\n",
    "    tab_models_fold = {}\n",
    "\n",
    "    print(\"\")\n",
    "    for fold_i in range(0, train_df.fold.max()+1):\n",
    "\n",
    "        train_fold = train_df[train_df.fold!=fold_i].copy().reset_index(drop=True)\n",
    "        valid_fold = train_df[train_df.fold==fold_i].copy().reset_index(drop=True)\n",
    "\n",
    "        nrounds = 1000000\n",
    "        np.random.seed(100)\n",
    "        tab_local_model = TabNetRegressor(**tab_params)\n",
    "\n",
    "        tab_local_model.fit(**tab_fit_params, \n",
    "                            X_train=train_fold[indep].values,\n",
    "                            y_train=train_fold[[target]].values,\n",
    "                            eval_set=[(valid_fold[indep].values, \n",
    "                                       valid_fold[[target]].values)]\n",
    "                           )\n",
    "        \n",
    "        tab_local_prediction = tab_local_model.predict(valid_fold[indep].values)\n",
    "        \n",
    "        tab_local_prediction = np.where(tab_local_prediction<0, 0, tab_local_prediction)\n",
    "        tab_local_prediction = np.where(tab_local_prediction>1, 1, tab_local_prediction)\n",
    "\n",
    "        fold_rmse = np.sqrt(mean_squared_error(valid_fold[target], tab_local_prediction))\n",
    "        fold_iteration = tab_local_model.max_epochs\n",
    "        \n",
    "        fold_iterations.append(tab_local_model.best_epoch)\n",
    "        fold_results.append(np.round(fold_rmse, 5))\n",
    "        tab_models_fold[fold_i] = tab_local_model\n",
    "        \n",
    "        print(f\"Current fold: {fold_i}, iteration {fold_iteration}, RMSE {fold_rmse}\")\n",
    "    \n",
    "    return fold_iterations, fold_results, tab_models_fold\n"
   ]
  },
  {
   "cell_type": "code",
   "execution_count": null,
   "id": "e4029a4a",
   "metadata": {
    "scrolled": true
   },
   "outputs": [],
   "source": [
    "# tab_local_model = TabNetRegressor()\n",
    "\n",
    "# tab_local_model.fit(X_train=train_df[indep].values,\n",
    "#                     y_train=train_df[[target]].values, \n",
    "#                     max_epochs=10)\n"
   ]
  },
  {
   "cell_type": "markdown",
   "id": "cb1b5baf",
   "metadata": {},
   "source": [
    "### tab optuna"
   ]
  },
  {
   "cell_type": "code",
   "execution_count": null,
   "id": "d4dec0ce",
   "metadata": {},
   "outputs": [],
   "source": [
    "def train_tab_model_optuna(trial):\n",
    "    tab_param = {'n_d':trial.suggest_int(\"n_d\", 4, 32)\n",
    "                 , 'n_a':trial.suggest_int(\"n_a\", 4, 32)\n",
    "#               , 'optimizer_params': {'lr': 0.02}\n",
    "                 , 'verbose':1\n",
    "                 , 'seed':42}\n",
    "    \n",
    "    tab_fit_params = {'batch_size':64, \n",
    "                      'patience':20, \n",
    "                      'max_epochs':1000,\n",
    "                      'num_workers':8,\n",
    "                      'eval_metric':['rmse']}\n",
    "    \n",
    "    tab_fold_iterations, tab_fold_results, tab_models_fold = train_tab_model(train_df=train_df, \n",
    "                                                                             tab_params = tab_param,\n",
    "                                                                             tab_fit_params = tab_fit_params\n",
    "                                                                             )\n",
    "    \n",
    "    avg_error = np.mean(tab_fold_results)\n",
    "    print(\"Avg.Fold results:\", avg_error)\n",
    "\n",
    "    return avg_error"
   ]
  },
  {
   "cell_type": "code",
   "execution_count": null,
   "id": "7cead152",
   "metadata": {
    "scrolled": true
   },
   "outputs": [],
   "source": [
    "# Optuna Hyper-parameter tuning\n",
    "\n",
    "tab_study = optuna.create_study(direction=\"minimize\")\n",
    "tab_study.optimize(train_tab_model_optuna\n",
    "                   , n_trials=1000\n",
    "                   , n_jobs=1\n",
    "                   #                , timeout=600\n",
    "                   , show_progress_bar=True\n",
    "                   , gc_after_trial=True\n",
    "              )\n",
    "\n",
    "optuna_logging(model='tab', study=tab_study, indep=indep)\n",
    "\n",
    "print(\"Number of finished trials: \", len(tab_study.trials))\n",
    "print(\"Best trial:\", tab_study.best_trial.number)\n",
    "print(\"Best Value: {}\".format(tab_study.best_trial.value))\n",
    "print(\"Params: \")\n",
    "tab_study.best_params"
   ]
  },
  {
   "cell_type": "code",
   "execution_count": null,
   "id": "22469c58",
   "metadata": {},
   "outputs": [],
   "source": [
    "# Read all the hyperparameters and their best RMSE from the logged file\n",
    "filename = f\"../Optuna_logging/tab_optuna_logging.csv\"\n",
    "temp = pd.read_csv(filename)\n",
    "temp"
   ]
  },
  {
   "cell_type": "code",
   "execution_count": null,
   "id": "42493a50",
   "metadata": {},
   "outputs": [],
   "source": [
    "best_RMSE = temp.best_RMSE.min()\n",
    "tab_params = eval(temp.best_param[temp.best_RMSE==best_RMSE].values[0])\n",
    "print(f\"The parameter corresponding to the best RMSE {best_RMSE}\")\n",
    "tab_params"
   ]
  },
  {
   "cell_type": "markdown",
   "id": "1641b231",
   "metadata": {},
   "source": [
    "# Indep combination"
   ]
  },
  {
   "cell_type": "code",
   "execution_count": null,
   "id": "fa4db2e9",
   "metadata": {
    "scrolled": true
   },
   "outputs": [],
   "source": [
    "def get_indep_combination(indep_all_combo, total_combinations_to_try):\n",
    "    tab_param = {'n_d':trial.suggest_int(\"n_d\", 4, 32)\n",
    "                 , 'n_a':trial.suggest_int(\"n_a\", 4, 32)\n",
    "#               , 'optimizer_params': {'lr': 0.02}\n",
    "                 , 'verbose':1\n",
    "                 , 'seed':42}\n",
    "    \n",
    "    tab_fit_params = {'batch_size':64, \n",
    "                      'patience':20, \n",
    "                      'max_epochs':1000,\n",
    "                      'num_workers':8,\n",
    "                      'eval_metric':['rmse']}\n",
    "\n",
    "    # reading the iterations ran so far\n",
    "    global overall_best\n",
    "    overall_best = pd.read_csv(\"../indep_combo/tab_best_indep_combo.csv\")\n",
    "#     overall_best['indep'] = overall_best.indep.apply(lambda x : eval(x))\n",
    "\n",
    "    random_index = np.random.choice(len(indep_all_combo), total_combinations_to_try, replace=False)\n",
    "    mean_fold_result = []\n",
    "    best_result={}\n",
    "    indep_df = []\n",
    "\n",
    "    # declare the indep as global so the changes can be reflected in the training function\n",
    "    global indep \n",
    "    \n",
    "    best = 10000\n",
    "    for i, indep_ind in enumerate(random_index):\n",
    "        indep= indep_all_combo[indep_ind]\n",
    "        print(f\"{i}/{total_combinations_to_try}\")\n",
    "\n",
    "        fold_iterations, fold_results, tab_models_fold = train_tab_model(train_df=train_df,\n",
    "                                                                         tab_params = tab_params,\n",
    "                                                                         tab_fit_params=tab_fit_params)\n",
    "        mean_fold_result.append(np.mean(fold_results))\n",
    "        indep_df.append(indep)\n",
    "        avg_iteration = int(np.mean(fold_iterations))\n",
    "\n",
    "        print(\"Fold iterations:\", fold_iterations)\n",
    "        print(\"Average iteration:\", avg_iteration)\n",
    "        print(\"Fold results:\", fold_results)\n",
    "        print(\"Avg.Fold results:\", mean_fold_result[-1])\n",
    "\n",
    "        # Printing the current best\n",
    "        if mean_fold_result[-1]<best:\n",
    "            best = mean_fold_result[-1]\n",
    "            print(colored(f\"New best {best}\", 'green'))\n",
    "            \n",
    "            # Reading and writing the indep combo\n",
    "            overall_best = pd.read_csv(\"../indep_combo/tab_best_indep_combo.csv\")\n",
    "            best_indep = pd.DataFrame({'Date':datetime.now(timeZ_Kl).strftime('%d-%m-%Y %H:%M:%S'),\n",
    "                                       'indep': str(indep), \n",
    "                                       'rmse': [best]})\n",
    "            \n",
    "            print(colored(\"writing the indep combos to disk\", 'blue'))\n",
    "            overall_best = overall_best.append(best_indep).drop_duplitabes().reset_index(drop=True)\n",
    "            overall_best.to_csv(\"../indep_combo/tab_best_indep_combo.csv\", index=False)\n",
    "            \n",
    "        else:\n",
    "            print(colored(f\"Best so far {best}\", 'yellow'))"
   ]
  },
  {
   "cell_type": "code",
   "execution_count": null,
   "id": "573453c1",
   "metadata": {},
   "outputs": [],
   "source": [
    "print(f\"Total actual features: {len(indep_master)}\")\n",
    "\n",
    "features_2_use=29\n",
    "comb_features = combinations(indep_master, features_2_use)\n",
    "\n",
    "indep_all_combo=[]\n",
    "for indep_combo in list(comb_features):\n",
    "    indep_all_combo.append(list(indep_combo))\n",
    "    \n",
    "print(f\"Total features to use: {features_2_use}\")\n",
    "print(f\"Total combo possible : {len(indep_all_combo)}\")"
   ]
  },
  {
   "cell_type": "code",
   "execution_count": null,
   "id": "24d270cd",
   "metadata": {
    "scrolled": true
   },
   "outputs": [],
   "source": [
    "get_indep_combination(indep_all_combo=indep_all_combo, \n",
    "                      total_combinations_to_try=20)"
   ]
  },
  {
   "cell_type": "code",
   "execution_count": null,
   "id": "0c02807f",
   "metadata": {
    "scrolled": true
   },
   "outputs": [],
   "source": [
    "best_indep = pd.read_csv(\"../indep_combo/cat_best_indep_combo.csv\")\n",
    "best_indep['Date'] = pd.to_datetime(best_indep.Date).dt.date.astype('str')\n",
    "\n",
    "today_date = datetime.now().strftime('%Y-%m-%d')\n",
    "\n",
    "condition1 = (best_indep.Date==today_date)\n",
    "best_indep = best_indep[condition1].reset_index(drop=True)\n",
    "\n",
    "condition2 = (best_indep.rmse == best_indep.rmse.min())\n",
    "indep = eval(best_indep[condition2].indep.values[0])\n",
    "\n",
    "print(f\"Best RMSE : {best_indep.rmse.min()}\")\n",
    "print(\"Best indep size\", len(indep))\n",
    "# indep[-1]\n"
   ]
  },
  {
   "cell_type": "markdown",
   "id": "9dcf4ce5",
   "metadata": {},
   "source": [
    "### local"
   ]
  },
  {
   "cell_type": "code",
   "execution_count": null,
   "id": "b5691859",
   "metadata": {
    "scrolled": true
   },
   "outputs": [],
   "source": [
    "tab_params = {'n_d':32\n",
    "              , 'n_a':32\n",
    "#               , 'optimizer_params': {'lr': 0.02}\n",
    "              , 'verbose':1\n",
    "              , 'seed':42}\n",
    "\n",
    "tab_fit_params = {'batch_size':64, \n",
    "                  'patience':20, \n",
    "                  'max_epochs':1000,\n",
    "                  'num_workers':8,\n",
    "                  'eval_metric':['rmse']}\n",
    "\n",
    "\n",
    "fold_iterations, fold_results, tab_models_fold = train_tab_model(train_df=train_df,\n",
    "                                                                 tab_params = tab_params, \n",
    "                                                                 tab_fit_params = tab_fit_params)\n",
    "\n",
    "avg_iteration = int(np.mean(fold_iterations))\n",
    "print(\"Fold iterations:\", fold_iterations)\n",
    "print(\"Average iteration:\", avg_iteration)\n",
    "print(\"Fold results:\", fold_results)\n",
    "print(\"Avg.Fold results:\", np.mean(fold_results))"
   ]
  }
 ],
 "metadata": {
  "kernelspec": {
   "display_name": "Python 3",
   "language": "python",
   "name": "python3"
  },
  "language_info": {
   "codemirror_mode": {
    "name": "ipython",
    "version": 3
   },
   "file_extension": ".py",
   "mimetype": "text/x-python",
   "name": "python",
   "nbconvert_exporter": "python",
   "pygments_lexer": "ipython3",
   "version": "3.8.8"
  }
 },
 "nbformat": 4,
 "nbformat_minor": 5
}
